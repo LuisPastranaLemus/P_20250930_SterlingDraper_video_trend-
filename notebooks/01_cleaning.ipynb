{
 "cells": [
  {
   "cell_type": "markdown",
   "id": "7b58c6ef",
   "metadata": {},
   "source": [
    "#### Data set cleaning\n",
    "\n",
    "Dataset: \n",
    "\n",
    "- _xxx.zip_\n",
    "    - _xxxa_calls.csv_\n",
    " \n",
    " - _yyy.csv_\n",
    "\n",
    "Author: Luis Sergio Pastrana Lemus  \n",
    "Date: 202Y-MM-DD"
   ]
  },
  {
   "cell_type": "markdown",
   "id": "ca32144c",
   "metadata": {},
   "source": [
    "# Data Cleaning – XXX Dataset"
   ]
  },
  {
   "cell_type": "markdown",
   "id": "1b9932f3",
   "metadata": {},
   "source": [
    "## __1. Libraries__."
   ]
  },
  {
   "cell_type": "code",
   "execution_count": null,
   "id": "25981453",
   "metadata": {},
   "outputs": [],
   "source": [
    "from pathlib import Path\n",
    "import sys\n",
    "\n",
    "# Define project root dynamically, gets the current directory from which the notebook belongs and moves one level upper\n",
    "project_root = Path.cwd().parent\n",
    "\n",
    "# Add src to sys.path if it is not already\n",
    "if str(project_root) not in sys.path:\n",
    "\n",
    "    sys.path.append(str(project_root))\n",
    "\n",
    "# Import function directly (more controlled than import *)\n",
    "from src import *\n",
    "\n",
    "\n",
    "from IPython.display import display, HTML\n",
    "import os\n",
    "import pandas as pd"
   ]
  },
  {
   "cell_type": "markdown",
   "id": "80a9b14e",
   "metadata": {},
   "source": [
    "## __2. Path to Data file__."
   ]
  },
  {
   "cell_type": "code",
   "execution_count": null,
   "id": "198282e9",
   "metadata": {},
   "outputs": [],
   "source": [
    "# Build route to data file and upload\n",
    "data_file_path = project_root / \"data\" / \"raw\" / \"Megaline.zip\"\n",
    "df_zzz = load_dataset_from_zip(data_file_path, \"zza.csv\", sep='|', header='infer', decimal=',', keep_default_na=False)\n",
    "\n",
    "data_file_path = project_root / \"data\" / \"raw\" /\n",
    "\n",
    "df_yyy = load_dataset_from_csv(data_file_path, \"yyy.csv\", sep=';', header='infer', decimal=',', keep_default_na=False)\n"
   ]
  },
  {
   "cell_type": "markdown",
   "id": "c8293e31",
   "metadata": {},
   "source": [
    "##### `LSPL`\n",
    "\n",
    "**Note:** `keep_default_na=False` is used to later convert missing values to `pd.NA`.  \n",
    "This is beneficial because `pd.NA` provides:\n",
    "\n",
    "- Consistency across data types  \n",
    "- Type integrity preservation  \n",
    "- Cleaner logical operations  \n",
    "- Improved control over missing data\n",
    "\n",
    "Since high performance or heavy computation is not required here, using `pd.NA` is appropriate."
   ]
  },
  {
   "cell_type": "code",
   "execution_count": null,
   "id": "3edd5dd5",
   "metadata": {},
   "outputs": [],
   "source": [
    "# Format notebook output\n",
    "format_notebook()"
   ]
  },
  {
   "cell_type": "markdown",
   "id": "76255815",
   "metadata": {},
   "source": [
    "## __3. Data set cleaning__."
   ]
  },
  {
   "cell_type": "code",
   "execution_count": null,
   "id": "dd602d96",
   "metadata": {},
   "outputs": [],
   "source": [
    "df_xxx.info()"
   ]
  },
  {
   "cell_type": "markdown",
   "id": "9ecc42c7",
   "metadata": {},
   "source": [
    "### 3.1. Standardizing String values using \"snake case\"."
   ]
  },
  {
   "cell_type": "markdown",
   "id": "e009a930",
   "metadata": {},
   "source": [
    "#### 3.1.1 Standardizing Column Labels."
   ]
  },
  {
   "cell_type": "code",
   "execution_count": null,
   "id": "05669bd8",
   "metadata": {},
   "outputs": [],
   "source": [
    "# Standardize column labels with snake_case format\n",
    "df_xxx = normalize_columns_headers_format(df_xxx)\n",
    "# df_xxx.columns = ['column_name'] + list(df_xxx.columns[1:]) to fill the first column name in case it is not named and add to the columns list\n",
    "df_xxx.columns"
   ]
  },
  {
   "cell_type": "markdown",
   "id": "0cc7d74b",
   "metadata": {},
   "source": [
    "#### 3.1.2 Standardizing Dataframe String values."
   ]
  },
  {
   "cell_type": "code",
   "execution_count": null,
   "id": "3482a2aa",
   "metadata": {},
   "outputs": [],
   "source": [
    "# Standardize data frame string values with snake_case format\n",
    "df_xxx = normalize_string_format(df_xxx, include=['column_name'])\n",
    "df_xxx"
   ]
  },
  {
   "cell_type": "markdown",
   "id": "0f4c8b22",
   "metadata": {},
   "source": [
    "##### `LSPL`\n",
    "\n",
    "**Note:** \n",
    "\n",
    "The column names and string values did not follow a consistent format; they contained spaces and capital letters, making them difficult to manipulate.\n",
    "\n",
    "__Solution__: Column names and string values were standardized using lowercase letters, removing spaces, and applying the snake_case format.   \n",
    "__Impact__: This facilitated data access and manipulation, improving readability and reducing errors in analysis."
   ]
  },
  {
   "cell_type": "markdown",
   "id": "61835131",
   "metadata": {},
   "source": [
    "### 3.2 Explicit duplicates."
   ]
  },
  {
   "cell_type": "code",
   "execution_count": null,
   "id": "b0c9d50f",
   "metadata": {},
   "outputs": [],
   "source": [
    "# Show explicit duplicates amount\n",
    "display(HTML(f\"> Explicit duplicates amount Dataframe <i>'df_xxx'</i>: <b>{df_xxx.duplicated().sum()}</b>\"))"
   ]
  },
  {
   "cell_type": "code",
   "execution_count": null,
   "id": "315cf4ac",
   "metadata": {},
   "outputs": [],
   "source": [
    "# Delete explicit duplicated rows\n",
    "# Not required"
   ]
  },
  {
   "cell_type": "markdown",
   "id": "6ad10fbf",
   "metadata": {},
   "source": [
    "##### `LSPL`\n",
    "\n",
    "**Note:** \n",
    "\n",
    "No explicit duplicate rows were detected."
   ]
  },
  {
   "cell_type": "markdown",
   "id": "9ac34c63",
   "metadata": {},
   "source": [
    "### 3.3 Missing values."
   ]
  },
  {
   "cell_type": "markdown",
   "id": "c4c13b8e",
   "metadata": {},
   "source": [
    "#### 3.3.1 Missing values check."
   ]
  },
  {
   "cell_type": "code",
   "execution_count": null,
   "id": "702c85b7",
   "metadata": {},
   "outputs": [],
   "source": [
    "# Show missing values\n",
    "check_existing_missing_values(df_xxx)"
   ]
  },
  {
   "cell_type": "markdown",
   "id": "b06e035d",
   "metadata": {},
   "source": [
    "#### 3.3.2 Replacing missing values (pd.NA)."
   ]
  },
  {
   "cell_type": "code",
   "execution_count": null,
   "id": "ac29c2bc",
   "metadata": {},
   "outputs": [],
   "source": [
    "# Replace missing values with pd.NA\n",
    "df_xxx = replace_missing_values(df_xxx, include=['column_name'])\n",
    "df_xxx"
   ]
  },
  {
   "cell_type": "markdown",
   "id": "c916cd64",
   "metadata": {},
   "source": [
    "#### 3.3.3 Preview missing values."
   ]
  },
  {
   "cell_type": "code",
   "execution_count": null,
   "id": "d06fa1d4",
   "metadata": {},
   "outputs": [],
   "source": [
    "# Show missing values heatmap\n",
    "missing_values_heatmap(df_xxx)"
   ]
  },
  {
   "cell_type": "code",
   "execution_count": null,
   "id": "4a3cc7ad",
   "metadata": {},
   "outputs": [],
   "source": [
    "# Show pd.NA missing values for 'columns' column\n",
    "df_xxx.loc[df_xxx['column_name'].isna(), :]"
   ]
  },
  {
   "cell_type": "markdown",
   "id": "e959c190",
   "metadata": {},
   "source": [
    "#### 3.3.4  Missing values data imputation."
   ]
  },
  {
   "cell_type": "code",
   "execution_count": null,
   "id": "eb3a8620",
   "metadata": {},
   "outputs": [],
   "source": [
    "# Handle df_orders pd.NA missing values within 'column_name' column\n",
    "# According to the dictionary, churn_date = the date the user stopped using the service (if the value is missing,\n",
    "# the plan was in use when this database was retrieved)"
   ]
  },
  {
   "cell_type": "markdown",
   "id": "20e36a3f",
   "metadata": {},
   "source": [
    "##### `LSPL`\n",
    "\n",
    "**Note:** \n",
    "\n",
    "1. Missing values in __df_xxx__, _'column_name'_ column\n",
    "\n",
    "Missing values in the `column_name` column occur ...\n",
    "\n",
    "__Solution__: All missing values in `columns_name` will be ....\n",
    "\n",
    "__Impact__: Identifying users with pd.NA, will help ...\n",
    "\n"
   ]
  },
  {
   "cell_type": "markdown",
   "id": "33af8b36",
   "metadata": {},
   "source": [
    "### 3.4 Implicit duplicates."
   ]
  },
  {
   "cell_type": "markdown",
   "id": "9db00f22",
   "metadata": {},
   "source": [
    "#### 3.4.1 Implicit duplicates check."
   ]
  },
  {
   "cell_type": "code",
   "execution_count": null,
   "id": "a4aa4ca1",
   "metadata": {},
   "outputs": [],
   "source": [
    "# Show implicit duplicates df_aisles\n",
    "detect_implicit_duplicates_fuzzy(df_xxx, 'column_name')"
   ]
  },
  {
   "cell_type": "markdown",
   "id": "a82bd0b0",
   "metadata": {},
   "source": [
    "#### 3.4.2 Implicit duplicates data imputation."
   ]
  },
  {
   "cell_type": "code",
   "execution_count": null,
   "id": "1797a4f8",
   "metadata": {},
   "outputs": [],
   "source": [
    "# Imputation"
   ]
  },
  {
   "cell_type": "markdown",
   "id": "404b7e2b",
   "metadata": {},
   "source": [
    "### 3.5 Casting data types."
   ]
  },
  {
   "cell_type": "markdown",
   "id": "680c7814",
   "metadata": {},
   "source": [
    "#### 3.5.1 Casting to string data type."
   ]
  },
  {
   "cell_type": "code",
   "execution_count": null,
   "id": "4227bb25",
   "metadata": {},
   "outputs": [],
   "source": [
    "# df_xxx 'column_name' to string\n",
    "df_xxx['column_name'] = df_xxx['column_name'].astype('string')\n",
    "df_xxx['column_name'].dtypes"
   ]
  },
  {
   "cell_type": "markdown",
   "id": "57bf9f3d",
   "metadata": {},
   "source": [
    "#### 3.5.2 Casting to numeric data type."
   ]
  },
  {
   "cell_type": "code",
   "execution_count": null,
   "id": "7589bc17",
   "metadata": {},
   "outputs": [],
   "source": [
    "# df_xxx 'column_name' to numeric\n",
    "find_fail_conversion_to_numeric(df_xxx, 'column_name')\n",
    "\n",
    "df_xxx = convert_object_to_numeric(df_xxx, type='integer', include=['column_name'])\n",
    "df_xxx['column_names'].dtypes"
   ]
  },
  {
   "cell_type": "markdown",
   "id": "9cbe18a0",
   "metadata": {},
   "source": [
    "#### 3.5.3 Casting to category data type."
   ]
  },
  {
   "cell_type": "code",
   "execution_count": null,
   "id": "c7a37aa3",
   "metadata": {},
   "outputs": [],
   "source": [
    "# df_xxx 'column_name' to category\n",
    "df_xxx['column_name'] = df_xxx['column_name'].astype('category')\n",
    "df_xxx['column_name'].dtypes"
   ]
  },
  {
   "cell_type": "markdown",
   "id": "3d18070f",
   "metadata": {},
   "source": [
    "#### 3.5.4 Casting to boolean data type."
   ]
  },
  {
   "cell_type": "code",
   "execution_count": null,
   "id": "63a80f05",
   "metadata": {},
   "outputs": [],
   "source": [
    "# df_xxx 'column_name' to boolean\n",
    "df_xxx = convert_integer_to_boolean(df_xxx, include=['column_name'])"
   ]
  },
  {
   "cell_type": "markdown",
   "id": "33437600",
   "metadata": {},
   "source": [
    "#### 3.5.5 Casting to datetime data type."
   ]
  },
  {
   "cell_type": "code",
   "execution_count": null,
   "id": "a3b356a2",
   "metadata": {},
   "outputs": [],
   "source": [
    "# df_xxx 'column_name' to datetime\n",
    "df_xxx = normalize_datetime(df_xxx, include=['column_name'], frmt='%Y-%m-%dT%H:%M:%S')\n",
    "df_xxx.dtypes"
   ]
  },
  {
   "cell_type": "markdown",
   "id": "2e05402a",
   "metadata": {},
   "source": [
    "## __4. Final cleaning dataframe review__."
   ]
  },
  {
   "cell_type": "code",
   "execution_count": null,
   "id": "f65c3ff3",
   "metadata": {},
   "outputs": [],
   "source": [
    "df_xxx.info()"
   ]
  },
  {
   "cell_type": "markdown",
   "id": "d1c7b3ee",
   "metadata": {},
   "source": [
    "## __5. Generate a new clean Data set .csv file__."
   ]
  },
  {
   "cell_type": "code",
   "execution_count": null,
   "id": "594c9231",
   "metadata": {},
   "outputs": [],
   "source": [
    "project_root = Path.cwd().parent\n",
    "processed_path = project_root / \"data\" / \"processed\" / \"clean\" / \"_clean.csv\"\n",
    "df_xxx.to_csv(processed_path, index=False)"
   ]
  }
 ],
 "metadata": {
  "kernelspec": {
   "display_name": "base",
   "language": "python",
   "name": "python3"
  },
  "language_info": {
   "codemirror_mode": {
    "name": "ipython",
    "version": 3
   },
   "file_extension": ".py",
   "mimetype": "text/x-python",
   "name": "python",
   "nbconvert_exporter": "python",
   "pygments_lexer": "ipython3",
   "version": "3.12.7"
  }
 },
 "nbformat": 4,
 "nbformat_minor": 5
}
