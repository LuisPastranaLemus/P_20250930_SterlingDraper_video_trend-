{
 "cells": [
  {
   "cell_type": "markdown",
   "id": "73808ee6",
   "metadata": {},
   "source": [
    "#### Exploratory Data Analysis (EDA) - Trends and Insights Analysis\n",
    "\n",
    "Dataset: \n",
    "- _xxx_clean.csv_\n",
    "- _xxx_clean.csv_\n",
    "- _xxx_clean.csv_\n",
    "\n",
    "Author: Luis Sergio Pastrana Lemus  \n",
    "Date: 2025-MM-DD"
   ]
  },
  {
   "cell_type": "markdown",
   "id": "fc7176ac",
   "metadata": {},
   "source": [
    "# Exploratory Data Analysis – Grocery Store Dataset"
   ]
  },
  {
   "cell_type": "markdown",
   "id": "8f267836",
   "metadata": {},
   "source": [
    "## __1. Libraries__."
   ]
  },
  {
   "cell_type": "code",
   "execution_count": null,
   "id": "b3e25b67",
   "metadata": {},
   "outputs": [],
   "source": [
    "from pathlib import Path\n",
    "import sys\n",
    "\n",
    "# Define project root dynamically, gets the current directory from which the notebook belongs and moves one level upper\n",
    "project_root = Path.cwd().parent\n",
    "\n",
    "# Add src to sys.path if it is not already\n",
    "if str(project_root) not in sys.path:\n",
    "\n",
    "    sys.path.append(str(project_root))\n",
    "\n",
    "# Import function directly (more controlled than import *)\n",
    "from src import *\n",
    "\n",
    "\n",
    "from IPython.display import display, HTML\n",
    "import os\n",
    "import pandas as pd\n",
    "import numpy as np"
   ]
  },
  {
   "cell_type": "markdown",
   "id": "8e1c0c8f",
   "metadata": {},
   "source": [
    "## __2. Path to Data file__."
   ]
  },
  {
   "cell_type": "code",
   "execution_count": null,
   "id": "2dd4f2de",
   "metadata": {},
   "outputs": [],
   "source": [
    "# Build route to data file and upload\n",
    "data_file_path = project_root / \"data\" / \"processed\" / \"clean\"\n",
    "\n",
    "df_xxx_clean = load_dataset_from_csv(data_file_path, \"xxx_clean.csv\", header='infer', parse_dates=['column_name'])\n",
    "\n",
    "# data_file_path = project_root / \"data\" / \"processed\" / \"feature\"\n",
    "\n",
    "# df_xxx_feature = load_dataset_from_csv(data_file_path, \"xxx_feature.csv\", sep=',', header='infer')"
   ]
  },
  {
   "cell_type": "code",
   "execution_count": null,
   "id": "420d237b",
   "metadata": {},
   "outputs": [],
   "source": [
    "# Format notebook output\n",
    "format_notebook()"
   ]
  },
  {
   "cell_type": "markdown",
   "id": "c5df8231",
   "metadata": {},
   "source": [
    "## __3. Exploratory Data Analysis__."
   ]
  },
  {
   "cell_type": "markdown",
   "id": "c6da504b",
   "metadata": {},
   "source": [
    "### 3.0 Casting Data types."
   ]
  },
  {
   "cell_type": "code",
   "execution_count": null,
   "id": "576df1f3",
   "metadata": {},
   "outputs": [],
   "source": [
    "# Call casting dtypes function from features.py and Identifying correctly missing values qith pd.NA\n",
    "\n",
    "# missing values to pd.NA\n",
    "df_xxx_clean = replace_missing_values(df_xxx_clean, include=['column_name'])\n",
    "\n",
    "# object to string\n",
    "df_xxx_clean = cast_datatypes(df_xxx_clean, 'string', c_include=['column_name'])\n",
    "\n",
    "# object to numeric\n",
    "df_xxx_clean = cast_datatypes(df_xxx_clean, 'numeric', numeric_type='Float64', c_include=['column_name'])\n",
    "\n",
    "# object to category\n",
    "df_xxx_clean = cast_datatypes(df_xxx_clean, 'category', c_include=['column_name'])\n",
    "\n",
    "# object to datetime\n",
    "df_xxx_clean['date'] = pd.to_datetime(df_xxx_clean['column_name'], errors='coerce', utc=True)"
   ]
  },
  {
   "cell_type": "markdown",
   "id": "c5d3d1ac",
   "metadata": {},
   "source": [
    "### 3.5 Data Visualization: Trends and Insights."
   ]
  },
  {
   "cell_type": "markdown",
   "id": "b143e028",
   "metadata": {},
   "source": [
    "3.5.1 Data visalization for high and low performing products in terms of sales"
   ]
  },
  {
   "cell_type": "code",
   "execution_count": null,
   "id": "f69c3729",
   "metadata": {},
   "outputs": [],
   "source": [
    "# Plots for insights"
   ]
  },
  {
   "cell_type": "markdown",
   "id": "77ad02bc",
   "metadata": {},
   "source": [
    "## 4. Conclusions and key insights"
   ]
  },
  {
   "cell_type": "markdown",
   "id": "a0dc7bd8",
   "metadata": {},
   "source": [
    "### 🎯 Key Findings\n",
    "\n",
    "#### Behavioral Insights\n",
    "\n",
    "- **XXX**: xxx \n",
    "\n",
    "#### Other Insights\n",
    "\n",
    "- **XXX**: xxx \n",
    "\n",
    "### Final Takeaways\n",
    "\n",
    "- **XXX**: xxx \n",
    "\n"
   ]
  }
 ],
 "metadata": {
  "language_info": {
   "name": "python"
  }
 },
 "nbformat": 4,
 "nbformat_minor": 5
}
