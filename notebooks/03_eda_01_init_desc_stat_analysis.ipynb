{
 "cells": [
  {
   "cell_type": "markdown",
   "id": "5d5c2e85",
   "metadata": {},
   "source": [
    "#### Exploratory Data Analysis (EDA) - Initial Descriptive Statistics\n",
    "\n",
    "Dataset: \n",
    "- _xxx_clean.csv_\n",
    "- _yyy_clean.csv_\n",
    "- _zzz_clean.csv_\n",
    "\n",
    "Author: Luis Sergio Pastrana Lemus  \n",
    "Date: 2025-MM-DD"
   ]
  },
  {
   "cell_type": "markdown",
   "id": "c881a345",
   "metadata": {},
   "source": [
    "# Exploratory Data Analysis – Name XXX Dataset"
   ]
  },
  {
   "cell_type": "markdown",
   "id": "3a661c37",
   "metadata": {},
   "source": [
    "## __1. Libraries__."
   ]
  },
  {
   "cell_type": "code",
   "execution_count": null,
   "id": "5ad85dad",
   "metadata": {},
   "outputs": [],
   "source": [
    "from pathlib import Path\n",
    "import sys\n",
    "\n",
    "# Define project root dynamically, gets the current directory from which the notebook belongs and moves one level upper\n",
    "project_root = Path.cwd().parent\n",
    "\n",
    "# Add src to sys.path if it is not already\n",
    "if str(project_root) not in sys.path:\n",
    "\n",
    "    sys.path.append(str(project_root))\n",
    "\n",
    "# Import function directly (more controlled than import *)\n",
    "from src import *\n",
    "\n",
    "\n",
    "from IPython.display import display, HTML\n",
    "import os\n",
    "import pandas as pd\n",
    "import numpy as np"
   ]
  },
  {
   "cell_type": "markdown",
   "id": "543653c1",
   "metadata": {},
   "source": [
    "## __2. Path to Data file__."
   ]
  },
  {
   "cell_type": "code",
   "execution_count": null,
   "id": "f55d4a5a",
   "metadata": {},
   "outputs": [],
   "source": [
    "# Build route to data file and upload\n",
    "data_file_path = project_root / \"data\" / \"processed\" / \"clean\"\n",
    "\n",
    "df_xxx_clean = load_dataset_from_csv(data_file_path, \"xxx_clean.csv\", header='infer', parse_dates=['join_date'])\n",
    "\n",
    "# data_file_path = project_root / \"data\" / \"processed\" / \"feature\"\n",
    "\n",
    "# df_xxx_feature = load_dataset_from_csv(data_file_path, \"xxx_feature.csv\", sep=',', header='infer')"
   ]
  },
  {
   "cell_type": "code",
   "execution_count": null,
   "id": "40581125",
   "metadata": {},
   "outputs": [],
   "source": [
    "# Format notebook output\n",
    "format_notebook()"
   ]
  },
  {
   "cell_type": "markdown",
   "id": "1f86f807",
   "metadata": {},
   "source": [
    "## __3. Exploratory Data Analysis__."
   ]
  },
  {
   "cell_type": "markdown",
   "id": "dd54b9df",
   "metadata": {},
   "source": [
    "### 3.0 Casting Data types."
   ]
  },
  {
   "cell_type": "code",
   "execution_count": null,
   "id": "0821cec9",
   "metadata": {},
   "outputs": [],
   "source": [
    "# Call casting dtypes function from features.py and Identifying correctly missing values qith pd.NA\n",
    "\n",
    "# missing values to pd.NA\n",
    "df_inventory_clean = replace_missing_values(df_xxx_clean, include=['column_name'])\n",
    "\n",
    "# object to string\n",
    "df_products_clean = cast_datatypes(df_xxx_clean, 'string', c_include=['column_name'])\n",
    "\n",
    "# object to numeric\n",
    "df_products_clean = cast_datatypes(df_xxx_clean, 'numeric', numeric_type='Float64', c_include=['column_name'])\n",
    "\n",
    "# object to category\n",
    "df_products_clean = cast_datatypes(df_xxx_clean, 'category', c_include=['column_name_01'])\n",
    "\n",
    "# object to datetime\n",
    "df_inventory_clean['date'] = pd.to_datetime(df_xxx_clean['column_name'], errors='coerce', utc=True)"
   ]
  },
  {
   "cell_type": "code",
   "execution_count": null,
   "id": "8179ee95",
   "metadata": {},
   "outputs": [],
   "source": [
    "df_xxx_clean.info()"
   ]
  },
  {
   "cell_type": "markdown",
   "id": "a02d2afe",
   "metadata": {},
   "source": [
    "### 3.1  Descriptive Statistics."
   ]
  },
  {
   "cell_type": "markdown",
   "id": "e795f8e6",
   "metadata": {},
   "source": [
    "#### 3.1.1 Descriptive statistics for Original datasets."
   ]
  },
  {
   "cell_type": "code",
   "execution_count": null,
   "id": "ab055b3c",
   "metadata": {},
   "outputs": [],
   "source": [
    "# Descriptive statistics for df_xxx_clean dataset\n",
    "df_xxx_clean.describe(include='all')"
   ]
  },
  {
   "cell_type": "markdown",
   "id": "ac77538d",
   "metadata": {},
   "source": [
    "#### 3.1.2 Descriptive statistics for xxx_clean dataset, quantitive values."
   ]
  },
  {
   "cell_type": "markdown",
   "id": "5817ecbf",
   "metadata": {},
   "source": [
    "<table>\n",
    "  <thead>\n",
    "    <tr>\n",
    "      <th>CV (%)</th>\n",
    "      <th>Interpretation for Coefficient of Variation</th>\n",
    "    </tr>\n",
    "  </thead>\n",
    "  <tbody>\n",
    "    <tr>\n",
    "      <td><small><strong>0–10%</strong></small></td>\n",
    "      <td><small><strong>Very low</strong> variability → <strong>very reliable</strong> Mean</small></td>\n",
    "    </tr>\n",
    "    <tr>\n",
    "      <td><small><strong>10–20%</strong></small></td>\n",
    "      <td><small><strong>Moderate</strong> variability → <strong>reliable</strong> Mean</small></td>\n",
    "    </tr>\n",
    "    <tr>\n",
    "      <td><small><strong>20–30%</strong></small></td>\n",
    "      <td><small><strong>Considerable</strong> variability → <strong>some what skewed</strong> Mean</small></td>\n",
    "    </tr>\n",
    "    <tr>\n",
    "      <td><small><strong>>30%</strong></small></td>\n",
    "      <td><small>High<strong> variability</strong> → <strong>prefer</strong> Median</small></td>\n",
    "    </tr>\n",
    "  </tbody>\n",
    "</table>\n"
   ]
  },
  {
   "cell_type": "code",
   "execution_count": null,
   "id": "d6ac6860",
   "metadata": {},
   "outputs": [],
   "source": [
    "df_xxx_clean['total_spent'].describe()"
   ]
  },
  {
   "cell_type": "code",
   "execution_count": null,
   "id": "0c3f2990",
   "metadata": {},
   "outputs": [],
   "source": [
    "# Evaluate the coefficient of variation to select the proper measure of central tendency\n",
    "evaluate_central_trend(df_xxx_clean, 'column_name')"
   ]
  },
  {
   "cell_type": "code",
   "execution_count": null,
   "id": "a72c8412",
   "metadata": {},
   "outputs": [],
   "source": [
    "# Evaluate boundary thresholds and detect potential outliers\n",
    "outlier_limit_bounds(df_xxx_clean, 'total_spent', bound='both', clamp_zero=True)"
   ]
  }
 ],
 "metadata": {
  "kernelspec": {
   "display_name": "base",
   "language": "python",
   "name": "python3"
  },
  "language_info": {
   "name": "python",
   "version": "3.12.7"
  }
 },
 "nbformat": 4,
 "nbformat_minor": 5
}
