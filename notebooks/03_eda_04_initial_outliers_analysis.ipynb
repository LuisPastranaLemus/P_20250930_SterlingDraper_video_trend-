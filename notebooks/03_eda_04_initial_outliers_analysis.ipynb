{
 "cells": [
  {
   "cell_type": "markdown",
   "id": "0b873c2d",
   "metadata": {},
   "source": [
    "#### Exploratory Data Analysis (EDA) - Outliers' Analysis\n",
    "\n",
    "Dataset: \n",
    "- _xxx_clean.csv_\n",
    "- _yyy_clean.csv_\n",
    "- _zzz_clean.csv_\n",
    "\n",
    "Author: Luis Sergio Pastrana Lemus  \n",
    "Date: 2025-MM-DD"
   ]
  },
  {
   "cell_type": "markdown",
   "id": "e8502746",
   "metadata": {},
   "source": [
    "# Exploratory Data Analysis – Name XXX Dataset"
   ]
  },
  {
   "cell_type": "markdown",
   "id": "9dfc97b3",
   "metadata": {},
   "source": [
    "## __1. Libraries__."
   ]
  },
  {
   "cell_type": "code",
   "execution_count": null,
   "id": "004d0ad7",
   "metadata": {},
   "outputs": [],
   "source": [
    "from pathlib import Path\n",
    "import sys\n",
    "\n",
    "# Define project root dynamically, gets the current directory from which the notebook belongs and moves one level upper\n",
    "project_root = Path.cwd().parent\n",
    "\n",
    "# Add src to sys.path if it is not already\n",
    "if str(project_root) not in sys.path:\n",
    "\n",
    "    sys.path.append(str(project_root))\n",
    "\n",
    "# Import function directly (more controlled than import *)\n",
    "from src import *\n",
    "\n",
    "\n",
    "from IPython.display import display, HTML\n",
    "import os\n",
    "import pandas as pd\n",
    "import numpy as np"
   ]
  },
  {
   "cell_type": "markdown",
   "id": "61b27144",
   "metadata": {},
   "source": [
    "## __2. Path to Data file__."
   ]
  },
  {
   "cell_type": "code",
   "execution_count": null,
   "id": "9daf0333",
   "metadata": {},
   "outputs": [],
   "source": [
    "# Build route to data file and upload\n",
    "data_file_path = project_root / \"data\" / \"processed\" / \"clean\"\n",
    "\n",
    "df_xxx_clean = load_dataset_from_csv(data_file_path, \"xxx_clean.csv\", header='infer', parse_dates=['column_name'])\n",
    "\n",
    "# data_file_path = project_root / \"data\" / \"processed\" / \"feature\"\n",
    "\n",
    "# df_xxx_feature = load_dataset_from_csv(data_file_path, \"xxx_feature.csv\", sep=',', header='infer')"
   ]
  },
  {
   "cell_type": "code",
   "execution_count": null,
   "id": "55a2550d",
   "metadata": {},
   "outputs": [],
   "source": [
    "# Format notebook output\n",
    "format_notebook()"
   ]
  },
  {
   "cell_type": "markdown",
   "id": "5eaba813",
   "metadata": {},
   "source": [
    "## __3. Exploratory Data Analysis__."
   ]
  },
  {
   "cell_type": "markdown",
   "id": "00fa8048",
   "metadata": {},
   "source": [
    "### 3.0 Casting Data types."
   ]
  },
  {
   "cell_type": "code",
   "execution_count": null,
   "id": "829951b9",
   "metadata": {},
   "outputs": [],
   "source": [
    "# Call casting dtypes function from features.py and Identifying correctly missing values qith pd.NA\n",
    "\n",
    "# missing values to pd.NA\n",
    "df_xxx_clean = replace_missing_values(df_xxx_clean, include=['column_name'])\n",
    "\n",
    "# object to string\n",
    "df_xxx_clean = cast_datatypes(df_xxx_clean, 'string', c_include=['column_name'])\n",
    "\n",
    "# object to numeric\n",
    "df_xxx_clean = cast_datatypes(df_xxx_clean, 'numeric', numeric_type='Float64', c_include=['column_name'])\n",
    "\n",
    "# object to category\n",
    "df_xxx_clean = cast_datatypes(df_xxx_clean, 'category', c_include=['column_name'])\n",
    "\n",
    "# object to datetime\n",
    "df_xxx_clean['date'] = pd.to_datetime(df_xxx_clean['date'], errors='coerce', utc=True)"
   ]
  },
  {
   "cell_type": "markdown",
   "id": "44402e0e",
   "metadata": {},
   "source": [
    "### 3.4 Outliers Analysis: Normalization of distributions with outliers."
   ]
  },
  {
   "cell_type": "markdown",
   "id": "ec498023",
   "metadata": {},
   "source": [
    "`LSPL`\n",
    "\n",
    "__Note__: Outliers detected within Datasets[column(bound_values)]\n",
    "\n",
    "- column_name [column_name_01(152.500), column_name_02(154.500)] "
   ]
  },
  {
   "cell_type": "markdown",
   "id": "3d1e268e",
   "metadata": {},
   "source": [
    "3.4.1 Outliers analysis for Inventory['beginning_stock]"
   ]
  },
  {
   "cell_type": "code",
   "execution_count": null,
   "id": "db5f1387",
   "metadata": {},
   "outputs": [],
   "source": []
  }
 ],
 "metadata": {
  "language_info": {
   "name": "python"
  }
 },
 "nbformat": 4,
 "nbformat_minor": 5
}
