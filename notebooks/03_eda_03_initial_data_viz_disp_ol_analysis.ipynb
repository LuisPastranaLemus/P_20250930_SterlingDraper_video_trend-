{
 "cells": [
  {
   "cell_type": "markdown",
   "id": "86b6e4c4",
   "metadata": {},
   "source": [
    "#### Exploratory Data Analysis (EDA) - Initial Data Visualization: Dispersion and Outliers\n",
    "\n",
    "Dataset: \n",
    "- _xxx_clean.csv_\n",
    "- _yyy_clean.csv_\n",
    "- _zzz_clean.csv_\n",
    "\n",
    "Author: Luis Sergio Pastrana Lemus  \n",
    "Date: 2025-MM-DD"
   ]
  },
  {
   "cell_type": "markdown",
   "id": "1265cb38",
   "metadata": {},
   "source": [
    "# Exploratory Data Analysis – Name XXX Dataset"
   ]
  },
  {
   "cell_type": "markdown",
   "id": "7e86f362",
   "metadata": {},
   "source": [
    "## __1. Libraries__."
   ]
  },
  {
   "cell_type": "code",
   "execution_count": null,
   "id": "29ae4e64",
   "metadata": {},
   "outputs": [],
   "source": [
    "from pathlib import Path\n",
    "import sys\n",
    "\n",
    "# Define project root dynamically, gets the current directory from which the notebook belongs and moves one level upper\n",
    "project_root = Path.cwd().parent\n",
    "\n",
    "# Add src to sys.path if it is not already\n",
    "if str(project_root) not in sys.path:\n",
    "\n",
    "    sys.path.append(str(project_root))\n",
    "\n",
    "# Import function directly (more controlled than import *)\n",
    "from src import *\n",
    "\n",
    "\n",
    "from IPython.display import display, HTML\n",
    "import os\n",
    "import pandas as pd\n",
    "import numpy as np"
   ]
  },
  {
   "cell_type": "markdown",
   "id": "1df00d6f",
   "metadata": {},
   "source": [
    "## __2. Path to Data file__."
   ]
  },
  {
   "cell_type": "code",
   "execution_count": null,
   "id": "497b6875",
   "metadata": {},
   "outputs": [],
   "source": [
    "# Build route to data file and upload\n",
    "data_file_path = project_root / \"data\" / \"processed\" / \"clean\"\n",
    "\n",
    "df_xxx_clean = load_dataset_from_csv(data_file_path, \"xxx_clean.csv\", header='infer', parse_dates=['column_date'])\n",
    "\n",
    "# data_file_path = project_root / \"data\" / \"processed\" / \"feature\"\n",
    "\n",
    "# df_xxx_feature = load_dataset_from_csv(data_file_path, \"xxx_feature.csv\", sep=',', header='infer')"
   ]
  },
  {
   "cell_type": "code",
   "execution_count": null,
   "id": "3d951843",
   "metadata": {},
   "outputs": [],
   "source": [
    "# Format notebook output\n",
    "format_notebook()"
   ]
  },
  {
   "cell_type": "markdown",
   "id": "d648cfb7",
   "metadata": {},
   "source": [
    "## __3. Exploratory Data Analysis__."
   ]
  },
  {
   "cell_type": "markdown",
   "id": "8757619c",
   "metadata": {},
   "source": [
    "### 3.0 Casting Data types."
   ]
  },
  {
   "cell_type": "code",
   "execution_count": null,
   "id": "adb93043",
   "metadata": {},
   "outputs": [],
   "source": [
    "# Call casting dtypes function from features.py and Identifying correctly missing values qith pd.NA\n",
    "\n",
    "# missing values to pd.NA\n",
    "df_xxx_clean = replace_missing_values(df_xxx_clean, include=['column_name'])\n",
    "\n",
    "# object to string\n",
    "df_xxx_clean = cast_datatypes(df_xxx_clean, 'string', c_include=['column_name'])\n",
    "\n",
    "# object to numeric\n",
    "df_xxx_clean = cast_datatypes(df_xxx_clean, 'numeric', numeric_type='Float64', c_include=['column_name'])\n",
    "\n",
    "# object to category\n",
    "df_xxx_clean = cast_datatypes(df_xxx_clean, 'category', c_include=['column_name'])\n",
    "\n",
    "# object to datetime\n",
    "df_xxx_clean['date'] = pd.to_datetime(df_xxx_clean['date'], errors='coerce', utc=True)"
   ]
  },
  {
   "cell_type": "markdown",
   "id": "09c3e18b",
   "metadata": {},
   "source": [
    "### 3.3 Data Visualization: Data dispersion and outliers."
   ]
  },
  {
   "cell_type": "markdown",
   "id": "23856cb6",
   "metadata": {},
   "source": [
    "3.3.1 Data dispersion and outliers for __'xxx_clean'__ dataset"
   ]
  },
  {
   "cell_type": "code",
   "execution_count": null,
   "id": "1e8aa0b7",
   "metadata": {},
   "outputs": [],
   "source": [
    "# Show data detailed statistical info 'column_name'\n",
    "plot_qq_normality_tests_plotlypx(df_xxx_clean, 'column_name')"
   ]
  },
  {
   "cell_type": "code",
   "execution_count": null,
   "id": "264206de",
   "metadata": {},
   "outputs": [],
   "source": [
    "plot_horizontal_boxplot_plotlypx(df_xxx_clean, 'column_name')"
   ]
  },
  {
   "cell_type": "code",
   "execution_count": null,
   "id": "22adbd0c",
   "metadata": {},
   "outputs": [],
   "source": [
    "\n",
    "plotly_frequency_density_plotlypx(df_xxx_clean['column_name'], bins=np.arange(x, y, z), density=True, color='grey', title='Frequency Density for ...', \n",
    "                                  xlabel='label X', ylabel='label Y', xticks_range=(x, y, z), show_kde=True)"
   ]
  }
 ],
 "metadata": {
  "language_info": {
   "name": "python"
  }
 },
 "nbformat": 4,
 "nbformat_minor": 5
}
