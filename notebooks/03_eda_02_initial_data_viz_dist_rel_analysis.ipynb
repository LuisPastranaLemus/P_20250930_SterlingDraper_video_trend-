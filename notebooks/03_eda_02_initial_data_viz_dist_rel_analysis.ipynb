{
 "cells": [
  {
   "cell_type": "markdown",
   "id": "3dc32b6d",
   "metadata": {},
   "source": [
    "#### Exploratory Data Analysis (EDA) - Initial Data Visualization: Distribution and Relations\n",
    "\n",
    "Dataset: \n",
    "- _xxx_clean.csv_\n",
    "- _yyy_clean.csv_\n",
    "- _zzz_clean.csv_\n",
    "\n",
    "Author: Luis Sergio Pastrana Lemus  \n",
    "Date: 2025-MM-DD"
   ]
  },
  {
   "cell_type": "markdown",
   "id": "829a4d42",
   "metadata": {},
   "source": [
    "# Exploratory Data Analysis – Name XXX Dataset"
   ]
  },
  {
   "cell_type": "markdown",
   "id": "d6399ce0",
   "metadata": {},
   "source": [
    "## __1. Libraries__."
   ]
  },
  {
   "cell_type": "code",
   "execution_count": null,
   "id": "34d88b01",
   "metadata": {},
   "outputs": [],
   "source": [
    "from pathlib import Path\n",
    "import sys\n",
    "\n",
    "# Define project root dynamically, gets the current directory from which the notebook belongs and moves one level upper\n",
    "project_root = Path.cwd().parent\n",
    "\n",
    "# Add src to sys.path if it is not already\n",
    "if str(project_root) not in sys.path:\n",
    "\n",
    "    sys.path.append(str(project_root))\n",
    "\n",
    "# Import function directly (more controlled than import *)\n",
    "from src import *\n",
    "\n",
    "\n",
    "from IPython.display import display, HTML\n",
    "import os\n",
    "import pandas as pd\n",
    "import numpy as np"
   ]
  },
  {
   "cell_type": "markdown",
   "id": "5e050656",
   "metadata": {},
   "source": [
    "## __2. Path to Data file__."
   ]
  },
  {
   "cell_type": "code",
   "execution_count": null,
   "id": "56f9e151",
   "metadata": {},
   "outputs": [],
   "source": [
    "# Build route to data file and upload\n",
    "data_file_path = project_root / \"data\" / \"processed\" / \"clean\"\n",
    "\n",
    "df_xxx_clean = load_dataset_from_csv(data_file_path, \"xxx_clean.csv\", header='infer', parse_dates=['join_date'])\n",
    "\n",
    "# data_file_path = project_root / \"data\" / \"processed\" / \"feature\"\n",
    "\n",
    "# df_xxx_feature = load_dataset_from_csv(data_file_path, \"xxx_feature.csv\", sep=',', header='infer')"
   ]
  },
  {
   "cell_type": "code",
   "execution_count": null,
   "id": "f824e3b1",
   "metadata": {},
   "outputs": [],
   "source": [
    "# Format notebook output\n",
    "format_notebook()"
   ]
  },
  {
   "cell_type": "markdown",
   "id": "7ea9dce7",
   "metadata": {},
   "source": [
    "## __3. Exploratory Data Analysis__."
   ]
  },
  {
   "cell_type": "markdown",
   "id": "d5eb359f",
   "metadata": {},
   "source": [
    "### 3.0 Casting Data types."
   ]
  },
  {
   "cell_type": "code",
   "execution_count": null,
   "id": "e514cdac",
   "metadata": {},
   "outputs": [],
   "source": [
    "# Call casting dtypes function from features.py and Identifying correctly missing values qith pd.NA\n",
    "\n",
    "# missing values to pd.NA\n",
    "df_xxx_clean = replace_missing_values(df_xxx_clean, include=['column_name'])\n",
    "\n",
    "# object to string\n",
    "df_xxx_clean = cast_datatypes(df_xxx_clean, 'string', c_include=['column_name'])\n",
    "\n",
    "# object to numeric\n",
    "df_xxx_clean = cast_datatypes(df_xxx_clean, 'numeric', numeric_type='Float64', c_include=['column_name''])\n",
    "\n",
    "# object to category\n",
    "df_xxx_clean = cast_datatypes(df_xxx_clean, 'category', c_include=['category', 'column_name''])\n",
    "\n",
    "# object to datetime\n",
    "df_xxx_clean['date'] = pd.to_datetime(df_xxx_clean['column_name''], errors='coerce', utc=True)"
   ]
  },
  {
   "cell_type": "markdown",
   "id": "d4399d34",
   "metadata": {},
   "source": [
    "### 3.2 Data Visualization: Distributions and Relationships."
   ]
  },
  {
   "cell_type": "markdown",
   "id": "a6d7f62c",
   "metadata": {},
   "source": [
    "#### 3.2.1 Covariance and Correlation Analysis."
   ]
  },
  {
   "cell_type": "markdown",
   "id": "613540cb",
   "metadata": {},
   "source": [
    "##### 3.2.1.1 Covariance Matrix."
   ]
  },
  {
   "cell_type": "code",
   "execution_count": null,
   "id": "01fdd94b",
   "metadata": {},
   "outputs": [],
   "source": [
    "# Covariance for xxx\n",
    "df_xxx_clean[['column_name_01'', 'column_name_02'']].cov()"
   ]
  },
  {
   "cell_type": "markdown",
   "id": "a2f6fe36",
   "metadata": {},
   "source": [
    "##### 3.2.1.2 Correlation Matrix."
   ]
  },
  {
   "cell_type": "markdown",
   "id": "5d05a481",
   "metadata": {},
   "source": [
    "| Correlation Value     | Interpretation                |\n",
    "| --------------------- | ----------------------------- |\n",
    "| `+0.7` to `+1.0`      | Strong positive correlation   |\n",
    "| `+0.3` to `+0.7`      | Moderate positive correlation |\n",
    "| `0.0` to `+0.3`       | Weak positive correlation     |\n",
    "| `0`                   | No correlation                |\n",
    "| `-0.3` to `0`         | Weak negative correlation     |\n",
    "| `-0.7` to `-0.3`      | Moderate negative correlation |\n",
    "| `-1.0` to `-0.7`      | Strong negative correlation   |\n"
   ]
  },
  {
   "cell_type": "code",
   "execution_count": null,
   "id": "4f2e6116",
   "metadata": {},
   "outputs": [],
   "source": [
    "# Correlation for xxx\n",
    "evaluate_correlation(df_xxx_clean, columns=['column_name_01', 'column_name_02', 'column_name_03'])"
   ]
  },
  {
   "cell_type": "code",
   "execution_count": null,
   "id": "ac97a842",
   "metadata": {},
   "outputs": [],
   "source": [
    "plot_scatter_matrixpx(df_xxx_clean, columns=['column_name_01', 'column_name_02', 'column_name_03'])"
   ]
  }
 ],
 "metadata": {
  "language_info": {
   "name": "python"
  }
 },
 "nbformat": 4,
 "nbformat_minor": 5
}
