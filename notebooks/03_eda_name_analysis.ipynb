{
 "cells": [
  {
   "cell_type": "markdown",
   "id": "a1013021",
   "metadata": {},
   "source": [
    "#### Exploratory Data Analysis (EDA)\n",
    "\n",
    "Dataset: \n",
    "\n",
    "- _xxx_feature.csv_\n",
    "\n",
    "Author: Luis Sergio Pastrana Lemus  \n",
    "Date: 202Y-MM-DD"
   ]
  },
  {
   "cell_type": "markdown",
   "id": "ba47d374",
   "metadata": {},
   "source": [
    "# Exploratory Data Analysis – xxx Activity Dataset"
   ]
  },
  {
   "cell_type": "markdown",
   "id": "8f19462b",
   "metadata": {},
   "source": [
    "## __1. Libraries__."
   ]
  },
  {
   "cell_type": "code",
   "execution_count": null,
   "id": "94199476",
   "metadata": {},
   "outputs": [],
   "source": [
    "from pathlib import Path\n",
    "import sys\n",
    "\n",
    "# Define project root dynamically, gets the current directory from which the notebook belongs and moves one level upper\n",
    "project_root = Path.cwd().parent\n",
    "\n",
    "# Add src to sys.path if it is not already\n",
    "if str(project_root) not in sys.path:\n",
    "\n",
    "    sys.path.append(str(project_root))\n",
    "\n",
    "# Import function directly (more controlled than import *)\n",
    "from src import *\n",
    "\n",
    "\n",
    "from IPython.display import display, HTML\n",
    "import os\n",
    "import pandas as pd"
   ]
  },
  {
   "cell_type": "markdown",
   "id": "cf3f11d4",
   "metadata": {},
   "source": [
    "## __2. Path to Data file__."
   ]
  },
  {
   "cell_type": "code",
   "execution_count": null,
   "id": "1767a2de",
   "metadata": {},
   "outputs": [],
   "source": [
    "# Build route to data file and upload\n",
    "data_file_path = project_root / \"data\" / \"processed\" / \"feature\"\n",
    "\n",
    "df_xxx_feature = load_dataset_from_csv(data_file_path, \"xxx_feature.csv\", sep=',', header='infer')"
   ]
  },
  {
   "cell_type": "markdown",
   "id": "da9ebca7",
   "metadata": {},
   "source": [
    "## __3. Exploratory Data Analysis__."
   ]
  },
  {
   "cell_type": "markdown",
   "id": "c7d9003f",
   "metadata": {},
   "source": [
    "### 3.0 Casting Data types."
   ]
  },
  {
   "cell_type": "code",
   "execution_count": null,
   "id": "02d47f1e",
   "metadata": {},
   "outputs": [],
   "source": [
    "df_ = cast_datatypes(df)"
   ]
  },
  {
   "cell_type": "code",
   "execution_count": null,
   "id": "f7ebe054",
   "metadata": {},
   "outputs": [],
   "source": [
    "df_.info()"
   ]
  },
  {
   "cell_type": "markdown",
   "id": "ccf94753",
   "metadata": {},
   "source": [
    "### 3.1  Descriptive Statistics."
   ]
  },
  {
   "cell_type": "markdown",
   "id": "845bbb12",
   "metadata": {},
   "source": [
    "#### 3.1.1 Descriptive statistics for Original datasets."
   ]
  },
  {
   "cell_type": "code",
   "execution_count": null,
   "id": "abea6d60",
   "metadata": {},
   "outputs": [],
   "source": [
    "# Descriptive statistics for xxx dataset\n",
    "df_xxx_feature.describe(include='all')"
   ]
  },
  {
   "cell_type": "markdown",
   "id": "7716c535",
   "metadata": {},
   "source": [
    "#### 3.1.2 Descriptive statistics for name dataset, quantitive values."
   ]
  },
  {
   "cell_type": "markdown",
   "id": "14db2021",
   "metadata": {},
   "source": [
    "<table>\n",
    "  <thead>\n",
    "    <tr>\n",
    "      <th>CV (%)</th>\n",
    "      <th>Interpretation for Coefficient of Variation</th>\n",
    "    </tr>\n",
    "  </thead>\n",
    "  <tbody>\n",
    "    <tr>\n",
    "      <td><small><strong>0–10%</strong></small></td>\n",
    "      <td><small><strong>Very low</strong> variability → <strong>very reliable</strong> Mean</small></td>\n",
    "    </tr>\n",
    "    <tr>\n",
    "      <td><small><strong>10–20%</strong></small></td>\n",
    "      <td><small><strong>Moderate</strong> variability → <strong>reliable</strong> Mean</small></td>\n",
    "    </tr>\n",
    "    <tr>\n",
    "      <td><small><strong>20–30%</strong></small></td>\n",
    "      <td><small><strong>Considerable</strong> variability → <strong>some what skewed</strong> Mean</small></td>\n",
    "    </tr>\n",
    "    <tr>\n",
    "      <td><small><strong>>30%</strong></small></td>\n",
    "      <td><small>High<strong> variability</strong> → <strong>prefer</strong> Median</small></td>\n",
    "    </tr>\n",
    "  </tbody>\n",
    "</table>\n"
   ]
  },
  {
   "cell_type": "code",
   "execution_count": null,
   "id": "add13c8a",
   "metadata": {},
   "outputs": [],
   "source": [
    "df_xxx_feature['column_name'].describe()"
   ]
  },
  {
   "cell_type": "code",
   "execution_count": null,
   "id": "9c29769e",
   "metadata": {},
   "outputs": [],
   "source": [
    "# Evaluate the coefficient of variation to select the proper measure of central tendency\n",
    "evaluate_central_trend(df_xxx_feature, 'column_name')"
   ]
  },
  {
   "cell_type": "code",
   "execution_count": null,
   "id": "61754cbb",
   "metadata": {},
   "outputs": [],
   "source": [
    "# Evaluate boundary thresholds and detect potential outliers\n",
    "outlier_limit_bounds(df_xxx_feature, 'column_name', bound='both', clamp_zero=True)"
   ]
  },
  {
   "cell_type": "code",
   "execution_count": null,
   "id": "4c834524",
   "metadata": {},
   "outputs": [],
   "source": [
    "# Show data distribution with detailed statistical info\n",
    "plot_distribution_dispersion(df_, 'column', bins=43)"
   ]
  },
  {
   "cell_type": "markdown",
   "id": "1fb0d3e0",
   "metadata": {},
   "source": [
    "### 3.2 Data Visualization: Distributions and Relationships."
   ]
  },
  {
   "cell_type": "markdown",
   "id": "8943a335",
   "metadata": {},
   "source": [
    "#### 3.2.1 Covariance and Correlation Analysis."
   ]
  },
  {
   "cell_type": "markdown",
   "id": "7806eb2d",
   "metadata": {},
   "source": [
    "##### 3.2.1.1 Covariance Matrix."
   ]
  },
  {
   "cell_type": "code",
   "execution_count": null,
   "id": "092e4f33",
   "metadata": {},
   "outputs": [],
   "source": [
    "# Covariance for services\n",
    "df_xxx_feature[['column_name', 'column_name']].cov()"
   ]
  },
  {
   "cell_type": "markdown",
   "id": "85307bc4",
   "metadata": {},
   "source": [
    "##### 3.2.1.2 Correlation Matrix."
   ]
  },
  {
   "cell_type": "markdown",
   "id": "6608f86b",
   "metadata": {},
   "source": [
    "| Correlation Value     | Interpretation                |\n",
    "| --------------------- | ----------------------------- |\n",
    "| `+0.7` to `+1.0`      | Strong positive correlation   |\n",
    "| `+0.3` to `+0.7`      | Moderate positive correlation |\n",
    "| `0.0` to `+0.3`       | Weak positive correlation     |\n",
    "| `0`                   | No correlation                |\n",
    "| `-0.3` to `0`         | Weak negative correlation     |\n",
    "| `-0.7` to `-0.3`      | Moderate negative correlation |\n",
    "| `-1.0` to `-0.7`      | Strong negative correlation   |\n"
   ]
  },
  {
   "cell_type": "code",
   "execution_count": null,
   "id": "cb1e56c8",
   "metadata": {},
   "outputs": [],
   "source": [
    "# Correlation for services\n",
    "df_xxx_feature[['column_name', 'columna_name']].corr()"
   ]
  },
  {
   "cell_type": "code",
   "execution_count": null,
   "id": "f9305906",
   "metadata": {},
   "outputs": [],
   "source": [
    "evaluate_correlation(df_xxx_feature)"
   ]
  },
  {
   "cell_type": "code",
   "execution_count": null,
   "id": "d085ab8f",
   "metadata": {},
   "outputs": [],
   "source": [
    "plot_scatter_matrix(df_xxx_feature[['column_name', 'column_name']])"
   ]
  },
  {
   "cell_type": "markdown",
   "id": "77a14736",
   "metadata": {},
   "source": [
    "### 3.3 Data Visualization: Data dispersion and outliers."
   ]
  },
  {
   "cell_type": "markdown",
   "id": "69e97fa4",
   "metadata": {},
   "source": [
    "3.3.1 Data dispersion and outliers for ..."
   ]
  },
  {
   "cell_type": "code",
   "execution_count": null,
   "id": "efde93fe",
   "metadata": {},
   "outputs": [],
   "source": [
    "# xxx Distribution Frequency and Frequency density\n",
    "plot_frequency_density(df_xxx_feature['column_name'], bins=np.arange(min, max, step), color='grey', title='Frequency Density of name', \n",
    "                       xlabel='Name (units)', ylabel='Density', xticks_range=(min, max, step), show_kde=True, rotation=0)"
   ]
  },
  {
   "cell_type": "code",
   "execution_count": null,
   "id": "4531dbd4",
   "metadata": {},
   "outputs": [],
   "source": [
    "# xxx data dispersion\n",
    "plot_boxplots(ds_list=[df_xxx_feature['column_name']], xlabels=['name'], ylabel='Values', title='Name Data dispersion', \n",
    "              yticks_range=(min, max, step), rotation=0, color=['grey'])"
   ]
  },
  {
   "cell_type": "markdown",
   "id": "7bc91fb5",
   "metadata": {},
   "source": [
    "#### 3.4 Data visualization for ..."
   ]
  },
  {
   "cell_type": "markdown",
   "id": "fb47c1e3",
   "metadata": {},
   "source": [
    "3.4.1 Data visalization for ..."
   ]
  },
  {
   "cell_type": "code",
   "execution_count": null,
   "id": "e9847fa8",
   "metadata": {},
   "outputs": [],
   "source": [
    "# Plots for insights"
   ]
  },
  {
   "cell_type": "markdown",
   "id": "9e82ace3",
   "metadata": {},
   "source": [
    "## 4. Conclusions and key insights"
   ]
  },
  {
   "cell_type": "markdown",
   "id": "3ae4b02d",
   "metadata": {},
   "source": [
    "### 🎯 Key Findings\n",
    "\n",
    "#### Behavioral Insights\n",
    "\n",
    "- **XXX**: xxx \n",
    "\n",
    "#### Other Insights\n",
    "\n",
    "- **XXX**: xxx \n",
    "\n",
    "### Final Takeaways\n",
    "\n",
    "- **XXX**: xxx \n",
    "\n"
   ]
  }
 ],
 "metadata": {
  "kernelspec": {
   "display_name": "Win11_Python-PipVenv-Github-Hmb7GD39",
   "language": "python",
   "name": "python3"
  },
  "language_info": {
   "codemirror_mode": {
    "name": "ipython",
    "version": 3
   },
   "file_extension": ".py",
   "mimetype": "text/x-python",
   "name": "python",
   "nbconvert_exporter": "python",
   "pygments_lexer": "ipython3",
   "version": "3.13.2"
  }
 },
 "nbformat": 4,
 "nbformat_minor": 5
}
