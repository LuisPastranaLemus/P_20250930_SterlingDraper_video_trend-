{
 "cells": [
  {
   "cell_type": "markdown",
   "id": "911331c4",
   "metadata": {},
   "source": [
    "#### Statistical Data Analysis\n",
    "Dataset: \n",
    "\n",
    "- _xxx.csv_\n",
    "\n",
    "Author: Luis Sergio Pastrana Lemus  \n",
    "Date: 202Y-MM-DD"
   ]
  },
  {
   "cell_type": "markdown",
   "id": "70ebb733",
   "metadata": {},
   "source": [
    "# Statistical Inference Data Analysis – xxx Activity Dataset"
   ]
  },
  {
   "cell_type": "markdown",
   "id": "8aa46ca9",
   "metadata": {},
   "source": [
    "## __1. Libraries__."
   ]
  },
  {
   "cell_type": "code",
   "execution_count": null,
   "id": "9a1c1750",
   "metadata": {},
   "outputs": [],
   "source": [
    "from pathlib import Path\n",
    "import sys\n",
    "\n",
    "# Define project root dynamically, gets the current directory from which the notebook belongs and moves one level upper\n",
    "project_root = Path.cwd().parent\n",
    "\n",
    "# Add src to sys.path if it is not already\n",
    "if str(project_root) not in sys.path:\n",
    "\n",
    "    sys.path.append(str(project_root))\n",
    "\n",
    "# Import function directly (more controlled than import *)\n",
    "from src import *\n",
    "\n",
    "\n",
    "from IPython.display import display, HTML\n",
    "import os\n",
    "import pandas as pd\n",
    "import scipy.stats as st\n",
    "from scipy.stats import ttest_ind\n"
   ]
  },
  {
   "cell_type": "markdown",
   "id": "b2219c83",
   "metadata": {},
   "source": [
    "## __2. Path to Data file__."
   ]
  },
  {
   "cell_type": "code",
   "execution_count": null,
   "id": "d7fa5a07",
   "metadata": {},
   "outputs": [],
   "source": [
    "# Build route to data file and upload\n",
    "data_file_path = project_root / \"data\" / \"processed\" / \"feature\"\n",
    "df_xxx = load_dataset_from_csv(data_file_path, \"xxx.csv\", sep=',', header='infer')"
   ]
  },
  {
   "cell_type": "markdown",
   "id": "39cb9aa4",
   "metadata": {},
   "source": [
    "## __3. Statistical Data Analysis__."
   ]
  },
  {
   "cell_type": "markdown",
   "id": "d1f217d4",
   "metadata": {},
   "source": [
    "### 3.1  Inferential Tests.\n",
    "\n",
    "Hypotheses: ..."
   ]
  },
  {
   "cell_type": "markdown",
   "id": "267aa045",
   "metadata": {},
   "source": [
    "#### 3.1.1  Hypotheses testing: ..."
   ]
  },
  {
   "cell_type": "code",
   "execution_count": null,
   "id": "3efc4747",
   "metadata": {},
   "outputs": [],
   "source": [
    "# Hypothesis: ...\n",
    "\n",
    "# 1. Hypotheses H0, H1\n",
    "# H0: ... are equal (==)\n",
    "# H1: ... are different (!=)\n",
    "\n",
    "# Prepare data by plans\n",
    "aaa = df_xxx.loc[df_xxx['column_name'] == '', 'column_name']\n",
    "bbb = df_xxx.loc[df_xxx['column_name'] == '', 'column_name']\n",
    "\n",
    "# 2. Specify Significance or Confidence\n",
    "# alpha = 5%\n",
    "# confidence = 95%\n",
    "\n",
    "alpha = 0.05"
   ]
  },
  {
   "cell_type": "code",
   "execution_count": null,
   "id": "519cb8b0",
   "metadata": {},
   "outputs": [],
   "source": [
    "# Levene's test, to ensure that the variances of different samples are equal and independent.\n",
    "# Preventing tests like ANOVA and t-Tests from beingeing \"incorrect\", increasing the probability of incurring in type 1 or 2 errors\n",
    "\n",
    "levene_stat, levene_p = st.levene(aaa, bbb)\n",
    "display(HTML(f\"<b>Levene's Test</b> – Statistic: {levene_stat:.4f}, P-value: {levene_p:.4f}\"))\n",
    "\n",
    "# Determining Equality of Variances\n",
    "if levene_p < 0.05:\n",
    "    equal_var = False\n",
    "    display(HTML(\"<i>Null Hypothesis H₀ is rejected: the variances are different (heteroscedasticity) → use equal_var=False (Welch version)</i>\"))\n",
    "else:\n",
    "    equal_var = True\n",
    "    display(HTML(\"<i>Null Hypothesis H₀ is not rejected: the variances are equal (homoscedasticity) → use equal_var=True (Normal version)</i>\"))"
   ]
  },
  {
   "cell_type": "code",
   "execution_count": null,
   "id": "20a6df4b",
   "metadata": {},
   "outputs": [
    {
     "data": {
      "text/html": [
       "T-statistic: <b>-7.361065154667772</b>"
      ],
      "text/plain": [
       "<IPython.core.display.HTML object>"
      ]
     },
     "metadata": {},
     "output_type": "display_data"
    },
    {
     "data": {
      "text/html": [
       "P-value: <b>0.000000000000273</b>"
      ],
      "text/plain": [
       "<IPython.core.display.HTML object>"
      ]
     },
     "metadata": {},
     "output_type": "display_data"
    },
    {
     "data": {
      "text/html": [
       "The <i>'null hypothesis' is rejected</i>, <b>accepting 'alternative hypothesis'</b>, because there is sufficient statistical evidence to affirm that <b>The average revenues across the plans differ significantly.</b>"
      ],
      "text/plain": [
       "<IPython.core.display.HTML object>"
      ]
     },
     "metadata": {},
     "output_type": "display_data"
    }
   ],
   "source": [
    "# 3. Calculate critical and test values, define acceptance and rejection zones\n",
    "\n",
    "t_stat, p_val = ttest_ind(aaa, bbb, equal_var=True | False)\n",
    "\n",
    "display(HTML(f\"T-statistic: <b>{t_stat:.15f}</b>\"))\n",
    "display(HTML(f\"P-value: <b>{p_val:.15f}</b>\"))\n",
    "\n",
    "# 4. Decision and Conclusion\n",
    "\n",
    "if p_val < alpha:\n",
    "    display(HTML(\"The <i>'H₀ null hypothesis' is rejected</i>, indicating sufficient statistical evidence to affirm that <b>... differ significantly.</b>\"))\n",
    "else:\n",
    "    display(HTML(\"The <i>'H₀ null hypothesis' is not rejected</i>, indicating insufficient statistical evidence to affirm that <b>... differ significantly</b>.\"))"
   ]
  },
  {
   "cell_type": "markdown",
   "id": "f0751e5c",
   "metadata": {},
   "source": [
    "#### Hypothesis Test validation"
   ]
  },
  {
   "cell_type": "code",
   "execution_count": null,
   "id": "bfd422b5",
   "metadata": {},
   "outputs": [
    {
     "data": {
      "text/html": [
       "> <b>Total revenue</b> from Megaline services: \n",
       "\n"
      ],
      "text/plain": [
       "<IPython.core.display.HTML object>"
      ]
     },
     "metadata": {},
     "output_type": "display_data"
    },
    {
     "name": "stdout",
     "output_type": "stream",
     "text": [
      "count    2293.000000\n",
      "mean       64.873676\n",
      "std        47.417238\n",
      "min        20.000000\n",
      "25%        25.340000\n",
      "50%        70.000000\n",
      "75%        70.000000\n",
      "max       596.770000\n",
      "Name: month_revenue_total, dtype: float64\n"
     ]
    }
   ],
   "source": [
    "display(HTML(f\"> <b>...</b> ...: \\n\\n\"))\n",
    "print(df_xxx[\"column_name\"].describe())"
   ]
  },
  {
   "cell_type": "code",
   "execution_count": null,
   "id": "39ef61e7",
   "metadata": {},
   "outputs": [],
   "source": []
  },
  {
   "cell_type": "markdown",
   "id": "b27f1c3f",
   "metadata": {},
   "source": [
    "## 4. Conclusion of Statistical Data Analysis – ...\n",
    "\n",
    "..."
   ]
  }
 ],
 "metadata": {
  "kernelspec": {
   "display_name": "Win11_Python-PipVenv-Github-Hmb7GD39",
   "language": "python",
   "name": "python3"
  },
  "language_info": {
   "codemirror_mode": {
    "name": "ipython",
    "version": 3
   },
   "file_extension": ".py",
   "mimetype": "text/x-python",
   "name": "python",
   "nbconvert_exporter": "python",
   "pygments_lexer": "ipython3",
   "version": "3.13.2"
  }
 },
 "nbformat": 4,
 "nbformat_minor": 5
}
