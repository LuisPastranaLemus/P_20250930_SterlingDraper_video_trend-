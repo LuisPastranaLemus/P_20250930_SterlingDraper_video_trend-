{
 "cells": [
  {
   "cell_type": "markdown",
   "id": "2d50323a",
   "metadata": {},
   "source": []
  },
  {
   "cell_type": "code",
   "execution_count": null,
   "id": "1959fddf",
   "metadata": {},
   "outputs": [],
   "source": []
  }
 ],
 "metadata": {
  "language_info": {
   "name": "python"
  }
 },
 "nbformat": 4,
 "nbformat_minor": 5
}
